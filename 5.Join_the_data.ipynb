{
 "cells": [
  {
   "cell_type": "code",
   "execution_count": 1,
   "metadata": {},
   "outputs": [],
   "source": [
    "import pandas as pd\n",
    "df = pd.read_csv('hospital.csv')"
   ]
  },
  {
   "cell_type": "code",
   "execution_count": 2,
   "metadata": {},
   "outputs": [
    {
     "data": {
      "text/html": [
       "<div>\n",
       "<style scoped>\n",
       "    .dataframe tbody tr th:only-of-type {\n",
       "        vertical-align: middle;\n",
       "    }\n",
       "\n",
       "    .dataframe tbody tr th {\n",
       "        vertical-align: top;\n",
       "    }\n",
       "\n",
       "    .dataframe thead th {\n",
       "        text-align: right;\n",
       "    }\n",
       "</style>\n",
       "<table border=\"1\" class=\"dataframe\">\n",
       "  <thead>\n",
       "    <tr style=\"text-align: right;\">\n",
       "      <th></th>\n",
       "      <th>DAY</th>\n",
       "      <th>Room Setup Start Time</th>\n",
       "      <th>Patient in Room Time</th>\n",
       "      <th>Anesthesia Start Time</th>\n",
       "      <th>Induction End</th>\n",
       "      <th>Procedure Start</th>\n",
       "      <th>Procedure End</th>\n",
       "      <th>Patient out of Room</th>\n",
       "      <th>Surgeon ID</th>\n",
       "      <th>Anesthesiologist ID</th>\n",
       "      <th>Scrub ID</th>\n",
       "      <th>Circulator ID</th>\n",
       "      <th>First Assistant ID</th>\n",
       "      <th>Second Assistant ID</th>\n",
       "    </tr>\n",
       "  </thead>\n",
       "  <tbody>\n",
       "    <tr>\n",
       "      <th>0</th>\n",
       "      <td>1</td>\n",
       "      <td>7:30</td>\n",
       "      <td>9:01</td>\n",
       "      <td>9:01</td>\n",
       "      <td>10:15</td>\n",
       "      <td>9:49</td>\n",
       "      <td>11:19</td>\n",
       "      <td>11:26</td>\n",
       "      <td>190</td>\n",
       "      <td>439</td>\n",
       "      <td>933.0</td>\n",
       "      <td>768</td>\n",
       "      <td>668.0</td>\n",
       "      <td>953.0</td>\n",
       "    </tr>\n",
       "    <tr>\n",
       "      <th>1</th>\n",
       "      <td>1</td>\n",
       "      <td>7:30</td>\n",
       "      <td>8:15</td>\n",
       "      <td>8:17</td>\n",
       "      <td>8:36</td>\n",
       "      <td>8:51</td>\n",
       "      <td>9:40</td>\n",
       "      <td>9:45</td>\n",
       "      <td>684</td>\n",
       "      <td>908</td>\n",
       "      <td>993.0</td>\n",
       "      <td>125</td>\n",
       "      <td>639.0</td>\n",
       "      <td>NaN</td>\n",
       "    </tr>\n",
       "    <tr>\n",
       "      <th>2</th>\n",
       "      <td>1</td>\n",
       "      <td>7:30</td>\n",
       "      <td>8:05</td>\n",
       "      <td>8:05</td>\n",
       "      <td>8:22</td>\n",
       "      <td>8:37</td>\n",
       "      <td>10:03</td>\n",
       "      <td>10:05</td>\n",
       "      <td>190</td>\n",
       "      <td>362</td>\n",
       "      <td>855.0</td>\n",
       "      <td>520</td>\n",
       "      <td>353.0</td>\n",
       "      <td>953.0</td>\n",
       "    </tr>\n",
       "  </tbody>\n",
       "</table>\n",
       "</div>"
      ],
      "text/plain": [
       "   DAY Room Setup Start Time Patient in Room Time Anesthesia Start Time  \\\n",
       "0    1                  7:30                 9:01                  9:01   \n",
       "1    1                  7:30                 8:15                  8:17   \n",
       "2    1                  7:30                 8:05                  8:05   \n",
       "\n",
       "  Induction End Procedure Start Procedure End Patient out of Room  Surgeon ID  \\\n",
       "0         10:15            9:49         11:19               11:26         190   \n",
       "1          8:36            8:51          9:40                9:45         684   \n",
       "2          8:22            8:37         10:03               10:05         190   \n",
       "\n",
       "   Anesthesiologist ID  Scrub ID  Circulator ID  First Assistant ID  \\\n",
       "0                  439     933.0            768               668.0   \n",
       "1                  908     993.0            125               639.0   \n",
       "2                  362     855.0            520               353.0   \n",
       "\n",
       "   Second Assistant ID  \n",
       "0                953.0  \n",
       "1                  NaN  \n",
       "2                953.0  "
      ]
     },
     "execution_count": 2,
     "metadata": {},
     "output_type": "execute_result"
    }
   ],
   "source": [
    "df[:3]"
   ]
  },
  {
   "cell_type": "code",
   "execution_count": 3,
   "metadata": {},
   "outputs": [],
   "source": [
    "df = df.fillna(999)\n",
    "df['Scrub ID'] = df['Scrub ID'].astype('int')\n",
    "df['First Assistant ID'] = df['First Assistant ID'].astype('int')\n",
    "df['Second Assistant ID'] = df['Second Assistant ID'].astype('int')\n",
    "df = df.astype('str')"
   ]
  },
  {
   "cell_type": "code",
   "execution_count": 4,
   "metadata": {},
   "outputs": [],
   "source": [
    "df_gene = df[['DAY','Surgeon ID','Anesthesiologist ID','Scrub ID','Circulator ID','First Assistant ID','Second Assistant ID']]"
   ]
  },
  {
   "cell_type": "code",
   "execution_count": 5,
   "metadata": {},
   "outputs": [
    {
     "data": {
      "text/html": [
       "<div>\n",
       "<style scoped>\n",
       "    .dataframe tbody tr th:only-of-type {\n",
       "        vertical-align: middle;\n",
       "    }\n",
       "\n",
       "    .dataframe tbody tr th {\n",
       "        vertical-align: top;\n",
       "    }\n",
       "\n",
       "    .dataframe thead th {\n",
       "        text-align: right;\n",
       "    }\n",
       "</style>\n",
       "<table border=\"1\" class=\"dataframe\">\n",
       "  <thead>\n",
       "    <tr style=\"text-align: right;\">\n",
       "      <th></th>\n",
       "      <th>DAY</th>\n",
       "      <th>Surgeon ID</th>\n",
       "      <th>Anesthesiologist ID</th>\n",
       "      <th>Scrub ID</th>\n",
       "      <th>Circulator ID</th>\n",
       "      <th>First Assistant ID</th>\n",
       "      <th>Second Assistant ID</th>\n",
       "    </tr>\n",
       "  </thead>\n",
       "  <tbody>\n",
       "    <tr>\n",
       "      <th>0</th>\n",
       "      <td>1</td>\n",
       "      <td>190</td>\n",
       "      <td>439</td>\n",
       "      <td>933</td>\n",
       "      <td>768</td>\n",
       "      <td>668</td>\n",
       "      <td>953</td>\n",
       "    </tr>\n",
       "    <tr>\n",
       "      <th>1</th>\n",
       "      <td>1</td>\n",
       "      <td>684</td>\n",
       "      <td>908</td>\n",
       "      <td>993</td>\n",
       "      <td>125</td>\n",
       "      <td>639</td>\n",
       "      <td>999</td>\n",
       "    </tr>\n",
       "    <tr>\n",
       "      <th>2</th>\n",
       "      <td>1</td>\n",
       "      <td>190</td>\n",
       "      <td>362</td>\n",
       "      <td>855</td>\n",
       "      <td>520</td>\n",
       "      <td>353</td>\n",
       "      <td>953</td>\n",
       "    </tr>\n",
       "  </tbody>\n",
       "</table>\n",
       "</div>"
      ],
      "text/plain": [
       "  DAY Surgeon ID Anesthesiologist ID Scrub ID Circulator ID  \\\n",
       "0   1        190                 439      933           768   \n",
       "1   1        684                 908      993           125   \n",
       "2   1        190                 362      855           520   \n",
       "\n",
       "  First Assistant ID Second Assistant ID  \n",
       "0                668                 953  \n",
       "1                639                 999  \n",
       "2                353                 953  "
      ]
     },
     "execution_count": 5,
     "metadata": {},
     "output_type": "execute_result"
    }
   ],
   "source": [
    "df_gene[:3]"
   ]
  },
  {
   "cell_type": "code",
   "execution_count": 6,
   "metadata": {},
   "outputs": [],
   "source": [
    "gp = df_gene.groupby(['Surgeon ID','Anesthesiologist ID'])['DAY'].count().reset_index().\\\n",
    "rename(index=str, columns={'DAY': 'SA'})\n",
    "df_gene = df_gene.merge(gp,on=['Surgeon ID','Anesthesiologist ID'],how='left')"
   ]
  },
  {
   "cell_type": "code",
   "execution_count": 7,
   "metadata": {
    "scrolled": true
   },
   "outputs": [
    {
     "data": {
      "text/html": [
       "<div>\n",
       "<style scoped>\n",
       "    .dataframe tbody tr th:only-of-type {\n",
       "        vertical-align: middle;\n",
       "    }\n",
       "\n",
       "    .dataframe tbody tr th {\n",
       "        vertical-align: top;\n",
       "    }\n",
       "\n",
       "    .dataframe thead th {\n",
       "        text-align: right;\n",
       "    }\n",
       "</style>\n",
       "<table border=\"1\" class=\"dataframe\">\n",
       "  <thead>\n",
       "    <tr style=\"text-align: right;\">\n",
       "      <th></th>\n",
       "      <th>DAY</th>\n",
       "      <th>Surgeon ID</th>\n",
       "      <th>Anesthesiologist ID</th>\n",
       "      <th>Scrub ID</th>\n",
       "      <th>Circulator ID</th>\n",
       "      <th>First Assistant ID</th>\n",
       "      <th>Second Assistant ID</th>\n",
       "      <th>SA</th>\n",
       "    </tr>\n",
       "  </thead>\n",
       "  <tbody>\n",
       "    <tr>\n",
       "      <th>0</th>\n",
       "      <td>1</td>\n",
       "      <td>190</td>\n",
       "      <td>439</td>\n",
       "      <td>933</td>\n",
       "      <td>768</td>\n",
       "      <td>668</td>\n",
       "      <td>953</td>\n",
       "      <td>31</td>\n",
       "    </tr>\n",
       "    <tr>\n",
       "      <th>1</th>\n",
       "      <td>1</td>\n",
       "      <td>684</td>\n",
       "      <td>908</td>\n",
       "      <td>993</td>\n",
       "      <td>125</td>\n",
       "      <td>639</td>\n",
       "      <td>999</td>\n",
       "      <td>5</td>\n",
       "    </tr>\n",
       "    <tr>\n",
       "      <th>2</th>\n",
       "      <td>1</td>\n",
       "      <td>190</td>\n",
       "      <td>362</td>\n",
       "      <td>855</td>\n",
       "      <td>520</td>\n",
       "      <td>353</td>\n",
       "      <td>953</td>\n",
       "      <td>6</td>\n",
       "    </tr>\n",
       "  </tbody>\n",
       "</table>\n",
       "</div>"
      ],
      "text/plain": [
       "  DAY Surgeon ID Anesthesiologist ID Scrub ID Circulator ID  \\\n",
       "0   1        190                 439      933           768   \n",
       "1   1        684                 908      993           125   \n",
       "2   1        190                 362      855           520   \n",
       "\n",
       "  First Assistant ID Second Assistant ID  SA  \n",
       "0                668                 953  31  \n",
       "1                639                 999   5  \n",
       "2                353                 953   6  "
      ]
     },
     "execution_count": 7,
     "metadata": {},
     "output_type": "execute_result"
    }
   ],
   "source": [
    "df_gene[:3]"
   ]
  },
  {
   "cell_type": "code",
   "execution_count": 8,
   "metadata": {},
   "outputs": [],
   "source": [
    "from itertools import combinations\n",
    "cols = ['Surgeon ID',\n",
    "       'Anesthesiologist ID', 'Scrub ID', 'Circulator ID',\n",
    "       'First Assistant ID', 'Second Assistant ID']\n",
    "for i in list(combinations(cols,2)):\n",
    "    gp = df_gene.groupby([i[0],i[1]])['DAY'].count().reset_index().\\\n",
    "        rename(index=str, columns={'DAY': str(i[0])[:3]+'_'+str(i[1])[:3]})\n",
    "    df_gene = df_gene.merge(gp,on=[i[0],i[1]],how='left')"
   ]
  },
  {
   "cell_type": "code",
   "execution_count": 9,
   "metadata": {},
   "outputs": [
    {
     "data": {
      "text/html": [
       "<div>\n",
       "<style scoped>\n",
       "    .dataframe tbody tr th:only-of-type {\n",
       "        vertical-align: middle;\n",
       "    }\n",
       "\n",
       "    .dataframe tbody tr th {\n",
       "        vertical-align: top;\n",
       "    }\n",
       "\n",
       "    .dataframe thead th {\n",
       "        text-align: right;\n",
       "    }\n",
       "</style>\n",
       "<table border=\"1\" class=\"dataframe\">\n",
       "  <thead>\n",
       "    <tr style=\"text-align: right;\">\n",
       "      <th></th>\n",
       "      <th>DAY</th>\n",
       "      <th>Surgeon ID</th>\n",
       "      <th>Anesthesiologist ID</th>\n",
       "      <th>Scrub ID</th>\n",
       "      <th>Circulator ID</th>\n",
       "      <th>First Assistant ID</th>\n",
       "      <th>Second Assistant ID</th>\n",
       "      <th>SA</th>\n",
       "      <th>Sur_Ane</th>\n",
       "      <th>Sur_Scr</th>\n",
       "      <th>...</th>\n",
       "      <th>Ane_Scr</th>\n",
       "      <th>Ane_Cir</th>\n",
       "      <th>Ane_Fir</th>\n",
       "      <th>Ane_Sec</th>\n",
       "      <th>Scr_Cir</th>\n",
       "      <th>Scr_Fir</th>\n",
       "      <th>Scr_Sec</th>\n",
       "      <th>Cir_Fir</th>\n",
       "      <th>Cir_Sec</th>\n",
       "      <th>Fir_Sec</th>\n",
       "    </tr>\n",
       "  </thead>\n",
       "  <tbody>\n",
       "    <tr>\n",
       "      <th>0</th>\n",
       "      <td>1</td>\n",
       "      <td>190</td>\n",
       "      <td>439</td>\n",
       "      <td>933</td>\n",
       "      <td>768</td>\n",
       "      <td>668</td>\n",
       "      <td>953</td>\n",
       "      <td>31</td>\n",
       "      <td>31</td>\n",
       "      <td>6</td>\n",
       "      <td>...</td>\n",
       "      <td>5</td>\n",
       "      <td>18</td>\n",
       "      <td>7</td>\n",
       "      <td>23</td>\n",
       "      <td>6</td>\n",
       "      <td>4</td>\n",
       "      <td>11</td>\n",
       "      <td>4</td>\n",
       "      <td>17</td>\n",
       "      <td>6</td>\n",
       "    </tr>\n",
       "    <tr>\n",
       "      <th>1</th>\n",
       "      <td>1</td>\n",
       "      <td>684</td>\n",
       "      <td>908</td>\n",
       "      <td>993</td>\n",
       "      <td>125</td>\n",
       "      <td>639</td>\n",
       "      <td>999</td>\n",
       "      <td>5</td>\n",
       "      <td>5</td>\n",
       "      <td>8</td>\n",
       "      <td>...</td>\n",
       "      <td>11</td>\n",
       "      <td>2</td>\n",
       "      <td>3</td>\n",
       "      <td>24</td>\n",
       "      <td>6</td>\n",
       "      <td>4</td>\n",
       "      <td>9</td>\n",
       "      <td>14</td>\n",
       "      <td>19</td>\n",
       "      <td>3</td>\n",
       "    </tr>\n",
       "    <tr>\n",
       "      <th>2</th>\n",
       "      <td>1</td>\n",
       "      <td>190</td>\n",
       "      <td>362</td>\n",
       "      <td>855</td>\n",
       "      <td>520</td>\n",
       "      <td>353</td>\n",
       "      <td>953</td>\n",
       "      <td>6</td>\n",
       "      <td>6</td>\n",
       "      <td>186</td>\n",
       "      <td>...</td>\n",
       "      <td>10</td>\n",
       "      <td>8</td>\n",
       "      <td>3</td>\n",
       "      <td>12</td>\n",
       "      <td>57</td>\n",
       "      <td>14</td>\n",
       "      <td>138</td>\n",
       "      <td>6</td>\n",
       "      <td>82</td>\n",
       "      <td>14</td>\n",
       "    </tr>\n",
       "  </tbody>\n",
       "</table>\n",
       "<p>3 rows × 23 columns</p>\n",
       "</div>"
      ],
      "text/plain": [
       "  DAY Surgeon ID Anesthesiologist ID Scrub ID Circulator ID  \\\n",
       "0   1        190                 439      933           768   \n",
       "1   1        684                 908      993           125   \n",
       "2   1        190                 362      855           520   \n",
       "\n",
       "  First Assistant ID Second Assistant ID  SA  Sur_Ane  Sur_Scr   ...     \\\n",
       "0                668                 953  31       31        6   ...      \n",
       "1                639                 999   5        5        8   ...      \n",
       "2                353                 953   6        6      186   ...      \n",
       "\n",
       "   Ane_Scr  Ane_Cir  Ane_Fir  Ane_Sec  Scr_Cir  Scr_Fir  Scr_Sec  Cir_Fir  \\\n",
       "0        5       18        7       23        6        4       11        4   \n",
       "1       11        2        3       24        6        4        9       14   \n",
       "2       10        8        3       12       57       14      138        6   \n",
       "\n",
       "   Cir_Sec  Fir_Sec  \n",
       "0       17        6  \n",
       "1       19        3  \n",
       "2       82       14  \n",
       "\n",
       "[3 rows x 23 columns]"
      ]
     },
     "execution_count": 9,
     "metadata": {},
     "output_type": "execute_result"
    }
   ],
   "source": [
    "df_gene[:3]"
   ]
  },
  {
   "cell_type": "code",
   "execution_count": 10,
   "metadata": {},
   "outputs": [
    {
     "data": {
      "text/plain": [
       "Index(['DAY', 'Surgeon ID', 'Anesthesiologist ID', 'Scrub ID', 'Circulator ID',\n",
       "       'First Assistant ID', 'Second Assistant ID', 'SA', 'Sur_Ane', 'Sur_Scr',\n",
       "       'Sur_Cir', 'Sur_Fir', 'Sur_Sec', 'Ane_Scr', 'Ane_Cir', 'Ane_Fir',\n",
       "       'Ane_Sec', 'Scr_Cir', 'Scr_Fir', 'Scr_Sec', 'Cir_Fir', 'Cir_Sec',\n",
       "       'Fir_Sec'],\n",
       "      dtype='object')"
      ]
     },
     "execution_count": 10,
     "metadata": {},
     "output_type": "execute_result"
    }
   ],
   "source": [
    "df_gene.columns"
   ]
  },
  {
   "cell_type": "code",
   "execution_count": 11,
   "metadata": {},
   "outputs": [],
   "source": [
    "df = df_gene[ [ 'Sur_Ane', 'Sur_Scr',\n",
    "       'Sur_Cir', 'Sur_Fir', 'Sur_Sec', 'Ane_Scr', 'Ane_Cir', 'Ane_Fir',\n",
    "       'Ane_Sec', 'Scr_Cir', 'Scr_Fir', 'Scr_Sec', 'Cir_Fir', 'Cir_Sec',\n",
    "       'Fir_Sec']]"
   ]
  },
  {
   "cell_type": "code",
   "execution_count": 14,
   "metadata": {},
   "outputs": [],
   "source": [
    "df_gene['sum']= df.apply(sum,axis=1)\n",
    "#df_original['DAY'] = df_original['DAY'].astype('int')"
   ]
  },
  {
   "cell_type": "code",
   "execution_count": 15,
   "metadata": {},
   "outputs": [],
   "source": [
    "df_original = df_gene.groupby('DAY')['sum'].mean().reset_index()"
   ]
  },
  {
   "cell_type": "code",
   "execution_count": 16,
   "metadata": {},
   "outputs": [],
   "source": [
    "df_original['DAY'] = df_original['DAY'].astype('int')\n",
    "df_original = df_original.sort_values('DAY').reset_index()"
   ]
  },
  {
   "cell_type": "code",
   "execution_count": 17,
   "metadata": {},
   "outputs": [],
   "source": [
    "df_original.drop(['index'],axis=1,inplace=True)"
   ]
  },
  {
   "cell_type": "code",
   "execution_count": 22,
   "metadata": {},
   "outputs": [],
   "source": [
    "best_team = pd.read_csv('BestTeam.csv').rename(index=str, columns={'Day': 'DAY'})\n",
    "best_team[:3]\n",
    "best_team = best_team.drop('Unnamed: 0',axis = 1)"
   ]
  },
  {
   "cell_type": "code",
   "execution_count": 23,
   "metadata": {},
   "outputs": [],
   "source": [
    "df_original = df_original.merge(best_team,on='DAY',how='left')  "
   ]
  },
  {
   "cell_type": "code",
   "execution_count": 24,
   "metadata": {},
   "outputs": [],
   "source": [
    "df_original = df_original.rename(index=str, columns = {'sum':'Mean'})"
   ]
  },
  {
   "cell_type": "code",
   "execution_count": 30,
   "metadata": {},
   "outputs": [],
   "source": [
    "import numpy as np\n",
    "df_original['gap'] = df_original['Cooperate Times'] - df_original['Mean']"
   ]
  },
  {
   "cell_type": "code",
   "execution_count": 31,
   "metadata": {},
   "outputs": [
    {
     "data": {
      "text/html": [
       "<div>\n",
       "<style scoped>\n",
       "    .dataframe tbody tr th:only-of-type {\n",
       "        vertical-align: middle;\n",
       "    }\n",
       "\n",
       "    .dataframe tbody tr th {\n",
       "        vertical-align: top;\n",
       "    }\n",
       "\n",
       "    .dataframe thead th {\n",
       "        text-align: right;\n",
       "    }\n",
       "</style>\n",
       "<table border=\"1\" class=\"dataframe\">\n",
       "  <thead>\n",
       "    <tr style=\"text-align: right;\">\n",
       "      <th></th>\n",
       "      <th>DAY</th>\n",
       "      <th>Mean</th>\n",
       "      <th>Teams</th>\n",
       "      <th>Cooperate Times</th>\n",
       "      <th>gap</th>\n",
       "    </tr>\n",
       "  </thead>\n",
       "  <tbody>\n",
       "    <tr>\n",
       "      <th>0</th>\n",
       "      <td>1</td>\n",
       "      <td>754.200000</td>\n",
       "      <td>[366, 833, 749, 608, 639, 10]</td>\n",
       "      <td>2025</td>\n",
       "      <td>1270.800000</td>\n",
       "    </tr>\n",
       "    <tr>\n",
       "      <th>1</th>\n",
       "      <td>2</td>\n",
       "      <td>605.931034</td>\n",
       "      <td>[743, 465, 40, 701, 510, 889]</td>\n",
       "      <td>2425</td>\n",
       "      <td>1819.068966</td>\n",
       "    </tr>\n",
       "    <tr>\n",
       "      <th>2</th>\n",
       "      <td>3</td>\n",
       "      <td>748.629630</td>\n",
       "      <td>[743, 465, 40, 470, 729, 889]</td>\n",
       "      <td>1326</td>\n",
       "      <td>577.370370</td>\n",
       "    </tr>\n",
       "  </tbody>\n",
       "</table>\n",
       "</div>"
      ],
      "text/plain": [
       "   DAY        Mean                          Teams  Cooperate Times  \\\n",
       "0    1  754.200000  [366, 833, 749, 608, 639, 10]             2025   \n",
       "1    2  605.931034  [743, 465, 40, 701, 510, 889]             2425   \n",
       "2    3  748.629630  [743, 465, 40, 470, 729, 889]             1326   \n",
       "\n",
       "           gap  \n",
       "0  1270.800000  \n",
       "1  1819.068966  \n",
       "2   577.370370  "
      ]
     },
     "execution_count": 31,
     "metadata": {},
     "output_type": "execute_result"
    }
   ],
   "source": [
    "df_original[:3]"
   ]
  },
  {
   "cell_type": "code",
   "execution_count": 170,
   "metadata": {},
   "outputs": [],
   "source": [
    "import matplotlib.pyplot as plt\n",
    "%matplotlib inline"
   ]
  },
  {
   "cell_type": "code",
   "execution_count": 32,
   "metadata": {},
   "outputs": [],
   "source": [
    "df_original.to_csv('Teams.csv')"
   ]
  },
  {
   "cell_type": "code",
   "execution_count": 172,
   "metadata": {},
   "outputs": [
    {
     "name": "stdout",
     "output_type": "stream",
     "text": [
      "<class 'pandas.core.frame.DataFrame'>\n",
      "Index: 534 entries, 0 to 533\n",
      "Data columns (total 5 columns):\n",
      "DAY               534 non-null int64\n",
      "Mean              534 non-null float64\n",
      "Best Team         534 non-null object\n",
      "Cooperate Time    534 non-null int64\n",
      "gap               534 non-null float64\n",
      "dtypes: float64(2), int64(2), object(1)\n",
      "memory usage: 25.0+ KB\n"
     ]
    }
   ],
   "source": [
    "df_original.info()"
   ]
  },
  {
   "cell_type": "code",
   "execution_count": null,
   "metadata": {},
   "outputs": [],
   "source": []
  }
 ],
 "metadata": {
  "kernelspec": {
   "display_name": "Python 3",
   "language": "python",
   "name": "python3"
  },
  "language_info": {
   "codemirror_mode": {
    "name": "ipython",
    "version": 3
   },
   "file_extension": ".py",
   "mimetype": "text/x-python",
   "name": "python",
   "nbconvert_exporter": "python",
   "pygments_lexer": "ipython3",
   "version": "3.6.4"
  }
 },
 "nbformat": 4,
 "nbformat_minor": 2
}
